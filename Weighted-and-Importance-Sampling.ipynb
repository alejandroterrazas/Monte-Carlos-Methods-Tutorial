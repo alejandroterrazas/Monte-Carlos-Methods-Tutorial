{
 "cells": [
  {
   "cell_type": "markdown",
   "metadata": {},
   "source": [
    "## Different modules to illustrate weighted random selection\n",
    "\n",
    "Weighted random selection is used when you want to select items with different likelihoods of being selected.   "
   ]
  },
  {
   "cell_type": "code",
   "execution_count": null,
   "metadata": {},
   "outputs": [],
   "source": [
    "import numpy as np\n",
    "import random\n",
    "from collections import Counter"
   ]
  },
  {
   "cell_type": "code",
   "execution_count": 43,
   "metadata": {},
   "outputs": [],
   "source": [
    "#this example uses a loop to return the item\n",
    "#in the next cell, a more efficient version is presented\n",
    "import random\n",
    "\n",
    "def weighted_choice(weights):\n",
    "    totals = np.cumsum(weights)   \n",
    "    rnd = random.random() * np.sum(weights)\n",
    "    \n",
    "    for i, total in enumerate(totals):\n",
    "        if rnd < total:\n",
    "            return i\n"
   ]
  },
  {
   "cell_type": "code",
   "execution_count": 44,
   "metadata": {},
   "outputs": [],
   "source": [
    "#this example uses bisect for faster processing\n",
    "\n",
    "import random\n",
    "import bisect\n",
    "\n",
    "def weighted_choice(weights):\n",
    "    totals = np.cumsum(weights)   \n",
    "    rnd = random.random() * np.sum(weights)\n",
    "    ##use bisect to \n",
    "    return bisect.bisect_right(totals, rnd)"
   ]
  },
  {
   "cell_type": "code",
   "execution_count": null,
   "metadata": {},
   "outputs": [],
   "source": [
    "##run the weighted random selection with unequal weights\n",
    "\n",
    "def simulate(n, weights):\n",
    "\n",
    "  samples = np.zeros(n)\n",
    "\n",
    "  for i in range(n):\n",
    "    samples[i] = weighted_choiceC(weights)\n",
    "    \n",
    "  return samples"
   ]
  },
  {
   "cell_type": "code",
   "execution_count": 45,
   "metadata": {},
   "outputs": [
    {
     "name": "stdout",
     "output_type": "stream",
     "text": [
      "Counter({5.0: 25337, 1.0: 16749, 3.0: 16667, 4.0: 16526, 2.0: 16477, 0.0: 8244})\n",
      "[0.08244, 0.16477, 0.16526, 0.16667, 0.16749, 0.25337] 0.9999999999999999\n"
     ]
    }
   ],
   "source": [
    "##set up the example \n",
    "\n",
    "n = 100000\n",
    "weights = [1/12, 1/6, 1/6, 1/6, 1/6, 3/12]\n",
    "\n",
    "samples = simulate(n, weights)\n",
    "\n",
    "c = Counter(samples)\n",
    "\n",
    "print(c)\n",
    "for key in c:\n",
    "  c[key] = c[key] / n\n",
    "    \n",
    "print(sorted(c.values()), sum(c.values()))"
   ]
  },
  {
   "cell_type": "code",
   "execution_count": null,
   "metadata": {},
   "outputs": [],
   "source": [
    "import random\n",
    "import bisect\n",
    "\n",
    "def weighted_choice(weights):\n",
    "    totals = []\n",
    "    running_total = 0\n",
    "\n",
    "    for w in weights:\n",
    "        running_total += w\n",
    "        totals.append(running_total)\n",
    "\n",
    "    rnd = random.random() * running_total\n",
    "    "
   ]
  },
  {
   "cell_type": "code",
   "execution_count": null,
   "metadata": {},
   "outputs": [],
   "source": [
    "print(samples)"
   ]
  },
  {
   "cell_type": "code",
   "execution_count": null,
   "metadata": {},
   "outputs": [],
   "source": [
    "##weighted choice is a version of choice that includes weights for a loaded die "
   ]
  },
  {
   "cell_type": "code",
   "execution_count": null,
   "metadata": {},
   "outputs": [],
   "source": [
    "import numpy as np\n",
    "\n",
    "import random\n",
    "from random import random \n",
    "\n",
    "def weighted_choice(outcomes, weights, nsamples=1000):\n",
    "    \"\"\" returns randomly an element from the sequence of 'outcomes', \n",
    "        the likelihood of the objects is weighted according \n",
    "        to the sequence of 'weights', i.e. percentages.\"\"\"\n",
    "    samples = []\n",
    "    #np.zeros(nsamples)\n",
    "    weights = np.array(weights, dtype=np.float64)\n",
    "    \n",
    "    sum_of_weights = weights.sum()\n",
    "    print(sum_of_weights)\n",
    "    # standardization:\n",
    "    np.multiply(weights, 1 / sum_of_weights, weights)\n",
    "    print(weights)\n",
    "    weights = weights.cumsum()\n",
    "    for sample in range(nsamples):\n",
    "       \n",
    "      x = random()\n",
    "      for weight,outcome in zip(weights,outcomes):\n",
    "        if x < weight:\n",
    "          #print(\"outcome: \", outcome)\n",
    "          samples.append(outcome)\n",
    "    return samples\n"
   ]
  },
  {
   "cell_type": "code",
   "execution_count": null,
   "metadata": {},
   "outputs": [],
   "source": [
    "\n",
    "faces = [1, 2, 3, 4, 5, 6]\n",
    "weights = [1/12, 1/6, 1/6, 1/6, 1/6, 3/12]\n",
    "samples = weighted_choice(faces, weights, nsamples=100000)\n",
    "\n",
    "#print(samples)\n",
    "c = Counter(samples)\n",
    "for key in c:\n",
    "    c[key] = c[key] / n\n",
    "    \n",
    "print(sorted(c.values()), sum(c.values()))"
   ]
  },
  {
   "cell_type": "code",
   "execution_count": null,
   "metadata": {},
   "outputs": [],
   "source": []
  },
  {
   "cell_type": "code",
   "execution_count": null,
   "metadata": {},
   "outputs": [],
   "source": [
    "cities = [\"Frankfurt\", \n",
    "          \"Stuttgart\", \n",
    "          \"Freiburg\", \n",
    "          \"München\", \n",
    "          \"Zürich\",\n",
    "          \"Hamburg\"]\n",
    "\n",
    "populations = [736000, 628000, 228000, 1450000, 409241, 1841179]\n",
    "total = sum(populations)\n",
    "weights = [ round(pop / total, 2) for pop in populations]\n",
    "print(weights)\n",
    "for i in range(10):\n",
    "    print(weighted_choice(cities, populations))\n"
   ]
  },
  {
   "cell_type": "code",
   "execution_count": null,
   "metadata": {},
   "outputs": [],
   "source": [
    "##importance sampling continued\n",
    "from scipy import stats\n",
    "h = lambda x : x > 3\n",
    "f = lambda x : stats.norm().pdf(x)\n",
    "g = lambda x : stats.norm(loc=4,scale=1).pdf(x)\n",
    "# Sample from the N(4,1).\n",
    "N = 10**7\n",
    "X = np.random.normal(4,scale=1,size=N)\n",
    "# Calculate estimate.\n",
    "1./N * np.sum(h(X)*f(X)/g(X))"
   ]
  },
  {
   "cell_type": "code",
   "execution_count": null,
   "metadata": {},
   "outputs": [],
   "source": [
    "def weighted_choice_sub(weights):\n",
    "    rnd = random.random() * sum(weights)\n",
    "    for i, w in enumerate(weights):\n",
    "        rnd -= w\n",
    "        if rnd < 0:\n",
    "            return i"
   ]
  },
  {
   "cell_type": "code",
   "execution_count": null,
   "metadata": {},
   "outputs": [],
   "source": [
    "h = lambda x : x > 10\n",
    "MC_estimates = []\n",
    "for N in range(5000,505000,5000):\n",
    "  X = np.random.gamma(9,scale=0.5,size=N) \n",
    "  MC = 1./N*np.sum(h(X)) \n",
    "  MC_estimates.append(MC)\n",
    "MC_estimates = np.array(MC_estimates)\n",
    "1 - stats.gamma(a=9,scale=0.5).cdf(10)"
   ]
  },
  {
   "cell_type": "code",
   "execution_count": null,
   "metadata": {},
   "outputs": [],
   "source": []
  }
 ],
 "metadata": {
  "kernelspec": {
   "display_name": "Python 3",
   "language": "python",
   "name": "python3"
  },
  "language_info": {
   "codemirror_mode": {
    "name": "ipython",
    "version": 3
   },
   "file_extension": ".py",
   "mimetype": "text/x-python",
   "name": "python",
   "nbconvert_exporter": "python",
   "pygments_lexer": "ipython3",
   "version": "3.7.4"
  }
 },
 "nbformat": 4,
 "nbformat_minor": 2
}
